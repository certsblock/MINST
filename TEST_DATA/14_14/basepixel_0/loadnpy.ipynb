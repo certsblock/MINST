{
 "cells": [
  {
   "cell_type": "code",
   "execution_count": 12,
   "metadata": {},
   "outputs": [],
   "source": [
    "import numpy as np\n",
    "x = np.load(\"MNIST_train.npy\")\n",
    "y = np.load(\"MNIST_label.npy\")\n"
   ]
  },
  {
   "cell_type": "code",
   "execution_count": 5,
   "metadata": {},
   "outputs": [
    {
     "data": {
      "text/plain": [
       "(10, 14, 14)"
      ]
     },
     "execution_count": 5,
     "metadata": {},
     "output_type": "execute_result"
    }
   ],
   "source": [
    "x.shape"
   ]
  },
  {
   "cell_type": "code",
   "execution_count": 13,
   "metadata": {},
   "outputs": [
    {
     "data": {
      "text/plain": [
       "(10, 1, 10)"
      ]
     },
     "execution_count": 13,
     "metadata": {},
     "output_type": "execute_result"
    }
   ],
   "source": [
    "y.shape"
   ]
  },
  {
   "cell_type": "code",
   "execution_count": 11,
   "metadata": {},
   "outputs": [],
   "source": [
    "np.savetxt(\"x1.txt\",x[1], delimiter=',',fmt = \"%03d\", footer='\\n')"
   ]
  },
  {
   "cell_type": "code",
   "execution_count": 14,
   "metadata": {},
   "outputs": [
    {
     "data": {
      "text/plain": [
       "array([[ 0.,  0.,  1.,  0.,  0.,  0.,  0.,  0.,  0.,  0.]])"
      ]
     },
     "execution_count": 14,
     "metadata": {},
     "output_type": "execute_result"
    }
   ],
   "source": [
    "y[1]"
   ]
  },
  {
   "cell_type": "code",
   "execution_count": 7,
   "metadata": {},
   "outputs": [
    {
     "data": {
      "text/plain": [
       "array([[   0.  ,    0.  ,    0.  ,    0.  ,    0.  ,    0.  ,    0.  ,\n",
       "           0.  ,    0.  ,    0.  ,    0.  ,    0.  ,    0.  ,    0.  ],\n",
       "       [   0.  ,    0.  ,    0.  ,    0.  ,    0.  ,    0.  ,    0.  ,\n",
       "           0.  ,    0.  ,    0.  ,    0.  ,    0.  ,    0.  ,    0.  ],\n",
       "       [   0.  ,    0.  ,    0.  ,    0.  ,    0.  ,    0.  ,    0.  ,\n",
       "           0.  ,  157.75,   47.75,    0.  ,    0.  ,    0.  ,    0.  ],\n",
       "       [   0.  ,    0.  ,    0.  ,    0.  ,    0.  ,    0.  ,    0.  ,\n",
       "          11.25,  192.5 ,    0.  ,    0.  ,    0.  ,    0.  ,    0.  ],\n",
       "       [   0.  ,    0.  ,    0.  ,    0.  ,    0.  ,    0.  ,    0.  ,\n",
       "          71.5 ,  137.75,    0.  ,    0.  ,    0.  ,    0.  ,    0.  ],\n",
       "       [   0.  ,    0.  ,    0.  ,    0.  ,    0.  ,    0.  ,    0.  ,\n",
       "         158.75,  102.75,    0.  ,    0.  ,    0.  ,    0.  ,    0.  ],\n",
       "       [   0.  ,    0.  ,    0.  ,    0.  ,    0.  ,    0.  ,   14.25,\n",
       "         209.  ,   21.25,    0.  ,    0.  ,    0.  ,    0.  ,    0.  ],\n",
       "       [   0.  ,    0.  ,    0.  ,    0.  ,    0.  ,    0.  ,   73.75,\n",
       "         188.75,    0.  ,    0.  ,    0.  ,    0.  ,    0.  ,    0.  ],\n",
       "       [   0.  ,    0.  ,    0.  ,    0.  ,    0.  ,    0.  ,  157.5 ,\n",
       "          93.5 ,    0.  ,    0.  ,    0.  ,    0.  ,    0.  ,    0.  ],\n",
       "       [   0.  ,    0.  ,    0.  ,    0.  ,    0.  ,    0.  ,  221.75,\n",
       "          52.  ,    0.  ,    0.  ,    0.  ,    0.  ,    0.  ,    0.  ],\n",
       "       [   0.  ,    0.  ,    0.  ,    0.  ,    0.  ,   50.5 ,  241.  ,\n",
       "          17.25,    0.  ,    0.  ,    0.  ,    0.  ,    0.  ,    0.  ],\n",
       "       [   0.  ,    0.  ,    0.  ,    0.  ,    0.  ,  107.  ,  140.25,\n",
       "           0.  ,    0.  ,    0.  ,    0.  ,    0.  ,    0.  ,    0.  ],\n",
       "       [   0.  ,    0.  ,    0.  ,    0.  ,    0.  ,    0.  ,    0.  ,\n",
       "           0.  ,    0.  ,    0.  ,    0.  ,    0.  ,    0.  ,    0.  ],\n",
       "       [   0.  ,    0.  ,    0.  ,    0.  ,    0.  ,    0.  ,    0.  ,\n",
       "           0.  ,    0.  ,    0.  ,    0.  ,    0.  ,    0.  ,    0.  ]])"
      ]
     },
     "execution_count": 7,
     "metadata": {},
     "output_type": "execute_result"
    }
   ],
   "source": [
    "x[2]"
   ]
  },
  {
   "cell_type": "code",
   "execution_count": 9,
   "metadata": {},
   "outputs": [
    {
     "data": {
      "text/plain": [
       "array([[   0.  ,    0.  ,    0.  ,    0.  ,    0.  ,    0.  ,    0.  ,\n",
       "           0.  ,    0.  ,    0.  ,    0.  ,    0.  ,    0.  ,    0.  ],\n",
       "       [   0.  ,    0.  ,    0.  ,    0.  ,    0.  ,    0.  ,    0.  ,\n",
       "           0.  ,    0.  ,    0.  ,    0.  ,    0.  ,    0.  ,    0.  ],\n",
       "       [   0.  ,    0.  ,    0.  ,    0.  ,    0.  ,    0.  ,  112.25,\n",
       "         239.75,   34.5 ,    0.  ,    0.  ,    0.  ,    0.  ,    0.  ],\n",
       "       [   0.  ,    0.  ,    0.  ,    0.  ,    0.  ,   80.25,  237.5 ,\n",
       "         252.  ,   96.25,   15.5 ,    0.  ,    0.  ,    0.  ,    0.  ],\n",
       "       [   0.  ,    0.  ,    0.  ,    0.  ,   45.5 ,  253.  ,  252.  ,\n",
       "         247.75,  244.25,  194.25,    0.  ,    0.  ,    0.  ,    0.  ],\n",
       "       [   0.  ,    0.  ,    0.  ,    8.  ,  191.5 ,  252.  ,  214.75,\n",
       "          58.5 ,   55.25,  245.75,  115.25,    1.25,    0.  ,    0.  ],\n",
       "       [   0.  ,    0.  ,    0.  ,   18.5 ,  251.  ,  168.  ,    5.  ,\n",
       "           0.  ,    0.  ,  147.75,  252.  ,   17.5 ,    0.  ,    0.  ],\n",
       "       [   0.  ,    0.  ,    0.  ,   44.25,  252.  ,    0.  ,    0.  ,\n",
       "           0.  ,    0.  ,  148.5 ,  253.  ,   49.75,    0.  ,    0.  ],\n",
       "       [   0.  ,    0.  ,    0.  ,  108.5 ,  251.  ,    0.  ,    0.  ,\n",
       "           0.  ,  119.75,  246.  ,  191.25,    7.5 ,    0.  ,    0.  ],\n",
       "       [   0.  ,    0.  ,    0.  ,  108.75,  252.  ,   36.5 ,  120.25,\n",
       "         172.5 ,  244.5 ,  252.  ,   45.  ,    0.  ,    0.  ,    0.  ],\n",
       "       [   0.  ,    0.  ,    0.  ,   36.  ,  245.75,  252.  ,  251.  ,\n",
       "         252.  ,  230.25,  110.75,    0.  ,    0.  ,    0.  ,    0.  ],\n",
       "       [   0.  ,    0.  ,    0.  ,    0.  ,   51.  ,  187.5 ,  231.5 ,\n",
       "         161.75,   34.25,    0.  ,    0.  ,    0.  ,    0.  ,    0.  ],\n",
       "       [   0.  ,    0.  ,    0.  ,    0.  ,    0.  ,    0.  ,    0.  ,\n",
       "           0.  ,    0.  ,    0.  ,    0.  ,    0.  ,    0.  ,    0.  ],\n",
       "       [   0.  ,    0.  ,    0.  ,    0.  ,    0.  ,    0.  ,    0.  ,\n",
       "           0.  ,    0.  ,    0.  ,    0.  ,    0.  ,    0.  ,    0.  ]])"
      ]
     },
     "execution_count": 9,
     "metadata": {},
     "output_type": "execute_result"
    }
   ],
   "source": [
    "x[3]"
   ]
  },
  {
   "cell_type": "code",
   "execution_count": null,
   "metadata": {
    "collapsed": true
   },
   "outputs": [],
   "source": []
  }
 ],
 "metadata": {
  "kernelspec": {
   "display_name": "Python 2",
   "language": "python",
   "name": "python2"
  },
  "language_info": {
   "codemirror_mode": {
    "name": "ipython",
    "version": 2
   },
   "file_extension": ".py",
   "mimetype": "text/x-python",
   "name": "python",
   "nbconvert_exporter": "python",
   "pygments_lexer": "ipython2",
   "version": "2.7.13"
  }
 },
 "nbformat": 4,
 "nbformat_minor": 2
}
