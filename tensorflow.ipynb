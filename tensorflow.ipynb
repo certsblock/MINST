{
 "cells": [
  {
   "cell_type": "code",
   "execution_count": 1,
   "metadata": {
    "collapsed": true
   },
   "outputs": [],
   "source": [
    "from PIL import Image"
   ]
  },
  {
   "cell_type": "code",
   "execution_count": 2,
   "metadata": {
    "collapsed": true
   },
   "outputs": [],
   "source": [
    "import skimage.measure\n",
    "def pooling_data(Iftrain, data, basepixel, pooling_size):\n",
    "    \n",
    "    #print pd.DataFrame(data)\n",
    "\n",
    "    #大于某个像素值 ==> 255\n",
    "    if Iftrain == True:\n",
    "        if basepixel > 0:\n",
    "            data[data> basepixel] =  255\n",
    "            data[data<= basepixel] = 0\n",
    "            \n",
    "    #压缩矩阵操作,取平均值，你可以自己写函数\n",
    "    pooled_data = skimage.measure.block_reduce(data,pooling_size,  np.mean)\n",
    "    return pooled_data"
   ]
  },
  {
   "cell_type": "code",
   "execution_count": 4,
   "metadata": {
    "collapsed": false
   },
   "outputs": [],
   "source": [
    "import os\n",
    "import numpy as np\n",
    "\n",
    "def save_to_image(Iftrain, label_number, pixels,basepixel, i):\n",
    "    MNIST = \"\"\n",
    "    if Iftrain == True:\n",
    "        MNIST = \"TRIAN_DATA\"\n",
    "    else:\n",
    "        MNIST = \"TEST_DATA\"\n",
    "        \n",
    "    image = Image.new('L',pixels.shape)\n",
    "    columns = pixels.shape[0]\n",
    "    rows = pixels.shape[1]\n",
    "    \n",
    "    for x in xrange(columns):\n",
    "            for y in xrange(rows):\n",
    "                    pix = pixels[y][x]\n",
    "                    image.putpixel((y, x), int(pixels[y][x]))\n",
    "    \n",
    "    print basepixel\n",
    "    \n",
    "    directory = MNIST+\"/\"+label_number +\"/\"+ str(columns)+\"_\"+str(rows)+\"/\"+\"basepixel_\"+str(basepixel)+\"/\"\n",
    "    \n",
    "    if not os.path.exists(directory):\n",
    "        os.makedirs(directory)\n",
    "    \n",
    "    image.save(directory+\"/\"+str(i) + '.png')"
   ]
  },
  {
   "cell_type": "code",
   "execution_count": 6,
   "metadata": {
    "collapsed": true
   },
   "outputs": [],
   "source": [
    "def save_to_numpy(Iftrain, train,  label, basepixel):\n",
    "    MNIST = \"\"\n",
    "    if Iftrain == True:\n",
    "        MNIST = \"TRIAN_DATA\"\n",
    "    else:\n",
    "        MNIST = \"TEST_DATA\"\n",
    "        \n",
    "    size = list(train[0].shape)[1:]\n",
    "    print size, \"================================save_to_numpy===========================\"\n",
    "    for idx in range(len(train)):\n",
    "        print \"label_ ===========================\",label[idx]\n",
    "        directory = MNIST+\"/\"+str(idx)+\"/\" +\"/\"+ str(size[0])+\"_\"+str(size[1])+\"/\"+\"basepixel_\"+str(basepixel)+\"/\"\n",
    "\n",
    "        #print pd.DataFrame(pixels)\n",
    "\n",
    "        if not os.path.exists(directory):\n",
    "            os.makedirs(directory)\n",
    "        ###################################################\n",
    "        #将数据转置后存入\n",
    "        np.save(directory+'MNIST_train.npy', train[idx].T)\n",
    "        test = np.load(directory+'MNIST_train.npy')\n",
    "        print np.all(train[idx].T == test)  \n",
    "        ###################################################\n",
    "        np.save(directory+\"MNIST_label.npy\", label[idx])\n",
    "        \n",
    "        label_test = np.load(directory+'MNIST_label.npy')\n",
    "        print np.all(label == label_test)  \n",
    "        ##################################################\n",
    "\n",
    "        with open(directory+'MNIST_train.txt','wb') as f:\n",
    "            for row in train[idx]:\n",
    "                 np.savetxt(f,np.transpose(row),delimiter=',',fmt = \"%03d\", footer='\\n')\n",
    "\n",
    "        with open(directory+'MNIST_label.txt','wb') as f:\n",
    "            for row in label[idx]:\n",
    "                 np.savetxt(f,row,delimiter=',',fmt = \"%01d\", footer='\\n')            \n",
    "        #x = np.loadtxt(directory+'MINST_train.txt',delimiter=',')\n",
    "        #print np.all(x == train)"
   ]
  },
  {
   "cell_type": "code",
   "execution_count": 7,
   "metadata": {
    "collapsed": false
   },
   "outputs": [],
   "source": [
    "def save_to_numpy(Iftrain, train,  label, basepixel):\n",
    "    MNIST = \"\"\n",
    "    if Iftrain == True:\n",
    "        MNIST = \"TRIAN_DATA\"\n",
    "    else:\n",
    "        MNIST = \"TEST_DATA\"\n",
    "        \n",
    "    size = list(train[0].shape)[1:]\n",
    "    print size, \"================================save_to_numpy===========================\"\n",
    "    for idx in range(len(train)):\n",
    "        print \"label_ ===========================\",label[idx]\n",
    "        directory = MNIST+\"/\"+str(idx)+\"/\" +\"/\"+ str(size[0])+\"_\"+str(size[1])+\"/\"+\"basepixel_\"+str(basepixel)+\"/\"\n",
    "\n",
    "        #print pd.DataFrame(pixels)\n",
    "\n",
    "        if not os.path.exists(directory):\n",
    "            os.makedirs(directory)\n",
    "        ###################################################\n",
    "        #将数据转置后存入\n",
    "        np.save(directory+'MNIST_train.npy', train[idx].T)\n",
    "        test = np.load(directory+'MNIST_train.npy')\n",
    "        print np.all(train[idx].T == test)  \n",
    "        ###################################################\n",
    "        np.save(directory+\"MNIST_label.npy\", label[idx])\n",
    "        \n",
    "        label_test = np.load(directory+'MNIST_label.npy')\n",
    "        print np.all(label == label_test)  \n",
    "        ##################################################\n",
    "\n",
    "        with open(directory+'MNIST_train.txt','wb') as f:\n",
    "            for row in train[idx]:\n",
    "                 np.savetxt(f,np.transpose(row),delimiter=',',fmt = \"%03d\", footer='\\n')\n",
    "\n",
    "        with open(directory+'MNIST_label.txt','wb') as f:\n",
    "            for row in label[idx]:\n",
    "                 np.savetxt(f,row,delimiter=',',fmt = \"%01d\", footer='\\n')            \n",
    "        #x = np.loadtxt(directory+'MINST_train.txt',delimiter=',')\n",
    "        #print np.all(x == train)"
   ]
  },
  {
   "cell_type": "code",
   "execution_count": 8,
   "metadata": {
    "collapsed": false,
    "scrolled": true
   },
   "outputs": [
    {
     "name": "stdout",
     "output_type": "stream",
     "text": [
      "pooling/TRIAN_DATA/basepixel_0/28_280\n",
      "pooling/TRIAN_DATA/basepixel_0/28_281\n",
      "pooling/TRIAN_DATA/basepixel_0/28_282\n",
      "pooling/TRIAN_DATA/basepixel_0/28_283\n",
      "pooling/TRIAN_DATA/basepixel_0/28_284\n",
      "pooling/TRIAN_DATA/basepixel_0/28_285\n",
      "pooling/TRIAN_DATA/basepixel_0/28_286\n",
      "pooling/TRIAN_DATA/basepixel_0/28_287\n",
      "pooling/TRIAN_DATA/basepixel_0/28_288\n",
      "pooling/TRIAN_DATA/basepixel_0/28_289\n",
      "pooling/TRIAN_DATA/basepixel_0/28_2810\n",
      "pooling/TRIAN_DATA/basepixel_0/28_2811\n",
      "pooling/TRIAN_DATA/basepixel_0/28_2812\n",
      "pooling/TRIAN_DATA/basepixel_0/28_2813\n",
      "pooling/TRIAN_DATA/basepixel_0/28_2814\n",
      "pooling/TRIAN_DATA/basepixel_0/28_2815\n",
      "pooling/TRIAN_DATA/basepixel_0/28_2816\n",
      "pooling/TRIAN_DATA/basepixel_0/28_2817\n",
      "pooling/TRIAN_DATA/basepixel_0/28_2818\n",
      "pooling/TRIAN_DATA/basepixel_0/28_2819\n",
      "pooling/TRIAN_DATA/basepixel_0/28_2820\n",
      "pooling/TRIAN_DATA/basepixel_0/28_2821\n",
      "pooling/TRIAN_DATA/basepixel_0/28_2822\n",
      "pooling/TRIAN_DATA/basepixel_0/28_2823\n",
      "pooling/TRIAN_DATA/basepixel_0/28_2824\n",
      "pooling/TRIAN_DATA/basepixel_0/28_2825\n",
      "pooling/TRIAN_DATA/basepixel_0/28_2826\n",
      "pooling/TRIAN_DATA/basepixel_0/28_2827\n",
      "pooling/TRIAN_DATA/basepixel_0/28_2828\n",
      "pooling/TRIAN_DATA/basepixel_0/28_2829\n"
     ]
    },
    {
     "ename": "NameError",
     "evalue": "global name 'save_to_numpy' is not defined",
     "output_type": "error",
     "traceback": [
      "\u001b[0;31m---------------------------------------------------------------------------\u001b[0m",
      "\u001b[0;31mNameError\u001b[0m                                 Traceback (most recent call last)",
      "\u001b[0;32m<ipython-input-8-bf84813594a8>\u001b[0m in \u001b[0;36m<module>\u001b[0;34m()\u001b[0m\n\u001b[1;32m      2\u001b[0m \u001b[0mpooling_size_list\u001b[0m \u001b[1;33m=\u001b[0m \u001b[1;33m[\u001b[0m\u001b[1;33m(\u001b[0m\u001b[1;36m1\u001b[0m\u001b[1;33m,\u001b[0m\u001b[1;36m1\u001b[0m\u001b[1;33m)\u001b[0m\u001b[1;33m,\u001b[0m \u001b[1;33m(\u001b[0m\u001b[1;36m2\u001b[0m\u001b[1;33m,\u001b[0m\u001b[1;36m2\u001b[0m\u001b[1;33m)\u001b[0m\u001b[1;33m]\u001b[0m\u001b[1;33m\u001b[0m\u001b[0m\n\u001b[1;32m      3\u001b[0m \u001b[1;31m#if Debug_num == 0, then save all images, Debug_num >0, save Debug_num images\u001b[0m\u001b[1;33m\u001b[0m\u001b[1;33m\u001b[0m\u001b[0m\n\u001b[0;32m----> 4\u001b[0;31m \u001b[0mdeal_image\u001b[0m\u001b[1;33m(\u001b[0m\u001b[1;34m\"train-images.idx3-ubyte\"\u001b[0m\u001b[1;33m,\u001b[0m \u001b[1;34m\"train-labels.idx1-ubyte\"\u001b[0m\u001b[1;33m,\u001b[0m\u001b[0mpooling_size_list\u001b[0m\u001b[1;33m,\u001b[0m\u001b[0mDebug_num\u001b[0m\u001b[1;33m=\u001b[0m\u001b[1;36m30\u001b[0m\u001b[1;33m,\u001b[0m\u001b[0mIftrain\u001b[0m\u001b[1;33m=\u001b[0m\u001b[0mTrue\u001b[0m\u001b[1;33m)\u001b[0m\u001b[1;33m\u001b[0m\u001b[0m\n\u001b[0m\u001b[1;32m      5\u001b[0m \u001b[0mdeal_image\u001b[0m\u001b[1;33m(\u001b[0m\u001b[1;34m\"t10k-images.idx3-ubyte\"\u001b[0m\u001b[1;33m,\u001b[0m\u001b[1;34m\"t10k-labels.idx1-ubyte\"\u001b[0m\u001b[1;33m,\u001b[0m \u001b[0mpooling_size_list\u001b[0m\u001b[1;33m,\u001b[0m\u001b[0mDebug_num\u001b[0m\u001b[1;33m=\u001b[0m\u001b[1;36m30\u001b[0m\u001b[1;33m,\u001b[0m\u001b[0mIftrain\u001b[0m\u001b[1;33m=\u001b[0m\u001b[0mFalse\u001b[0m\u001b[1;33m)\u001b[0m\u001b[1;33m\u001b[0m\u001b[0m\n",
      "\u001b[0;32m<ipython-input-7-375f0f25c682>\u001b[0m in \u001b[0;36mdeal_image\u001b[0;34m(train_filename, label_filename, pooling_size_list, Debug_num, Iftrain)\u001b[0m\n\u001b[1;32m     72\u001b[0m \u001b[1;33m\u001b[0m\u001b[0m\n\u001b[1;32m     73\u001b[0m \u001b[1;33m\u001b[0m\u001b[0m\n\u001b[0;32m---> 74\u001b[0;31m             \u001b[0msave_to_numpy\u001b[0m\u001b[1;33m(\u001b[0m\u001b[0mIftrain\u001b[0m\u001b[1;33m,\u001b[0m \u001b[0mnp_to_save\u001b[0m\u001b[1;33m,\u001b[0m \u001b[0mlabel_to_save\u001b[0m\u001b[1;33m,\u001b[0m \u001b[0mbasepixel\u001b[0m\u001b[1;33m,\u001b[0m \u001b[0mpooled_size\u001b[0m\u001b[1;33m)\u001b[0m\u001b[1;33m\u001b[0m\u001b[0m\n\u001b[0m",
      "\u001b[0;31mNameError\u001b[0m: global name 'save_to_numpy' is not defined"
     ]
    }
   ],
   "source": [
    "#设置要池化的数据块大小\n",
    "pooling_size_list = [(1,1), (2,2)]\n",
    "#if Debug_num == 0, then save all images, Debug_num >0, save Debug_num images\n",
    "deal_image(\"train-images.idx3-ubyte\", \"train-labels.idx1-ubyte\",pooling_size_list,Debug_num=30,Iftrain=True)\n",
    "deal_image(\"t10k-images.idx3-ubyte\",\"t10k-labels.idx1-ubyte\", pooling_size_list,Debug_num=30,Iftrain=False)\n"
   ]
  },
  {
   "cell_type": "code",
   "execution_count": 5,
   "metadata": {
    "collapsed": true
   },
   "outputs": [],
   "source": [
    "from PIL import Image\n",
    "import struct\n",
    "import numpy as np\n",
    "import pandas as pd\n",
    "import math\n",
    "\n",
    "def deal_image_5_8(train_filename, label_filename, pooling_size_list, Debug_num = 0,Iftrain = True):\n",
    "    \n",
    "    ##############################################################################################\n",
    "    train_file = open(train_filename, 'rb')\n",
    "    buf = train_file.read()\n",
    "    print \"buf\", len(buf)\n",
    "    train_file.close()\n",
    "    index = 0\n",
    "    magic, images, rows, columns = struct.unpack_from('>IIII' , buf , index)\n",
    "    print \"magic\", magic, \"images\", images, rows, columns\n",
    "    index += struct.calcsize('>IIII')\n",
    "    if Debug_num == 0:\n",
    "        images_num = images\n",
    "    else:\n",
    "        images_num = Debug_num    \n",
    "    ################################################################################################\n",
    "    label_f = open(label_filename, 'rb')\n",
    "    label_buf = label_f.read()\n",
    "    label_index = 0\n",
    "    struct.unpack_from('>II' , label_buf, label_index)\n",
    "    label_index += struct.calcsize('>II')\n",
    "    \n",
    "    for size in pooling_size_list:\n",
    "        for basepixel in range(0, 256, 25):\n",
    "            \n",
    "            pooled_size = (int(math.ceil(columns*1.0/size[0])) , int(math.ceil(rows*1.0/size[1])))\n",
    "            print pooled_size\n",
    "            \n",
    "            \n",
    "            ###################################################################\n",
    "            np_to_save = np.zeros((20,  pooled_size[0], pooled_size[1]))\n",
    "            label_to_save = np.zeros((20, 1, 10))\n",
    "            ###################################################################\n",
    "            index = 0\n",
    "            index += struct.calcsize('>IIII')\n",
    "            ##############################\n",
    "            ##############################\n",
    "            label_index = 0\n",
    "            label_index += struct.calcsize('>II')\n",
    "            ##############################\n",
    "            count_image5  = 0\n",
    "            count_image8  = 0\n",
    "            count_image = 0\n",
    "            for i in xrange(images_num):\n",
    "                # for debug\n",
    "                normal_np = np.zeros((columns, rows))\n",
    "                label_np = np.zeros(10)\n",
    "                label_number = (struct.unpack_from('>B', label_buf, label_index)[0])\n",
    "                label_index += struct.calcsize('>B')\n",
    "                for x in xrange(columns):\n",
    "                    for y in xrange(rows):\n",
    "                        normal_np[y][x] = int(struct.unpack_from('>B', buf, index)[0])\n",
    "                        index += struct.calcsize('>B')\n",
    "\n",
    "                \n",
    "                label_np[label_number] = 1\n",
    "\n",
    "                if label_number == 5 or label_number == 8:\n",
    "                    \n",
    "                        \n",
    "            \n",
    "                    \n",
    "                    pooled_data = pooling_data(Iftrain, normal_np, basepixel, size)\n",
    "                    ###############################################################\n",
    "                    print np_to_save.shape\n",
    "                    print pooled_data.shape\n",
    "                    np_to_save[count_image] = pooled_data\n",
    "                    label_to_save[count_image] = label_np\n",
    "                    \n",
    "                    \n",
    "                    #print np_to_save[i]\n",
    "                    ################################################################\n",
    "                    save_to_image(Iftrain, pooled_data,basepixel,size, count_image)\n",
    "                    \n",
    "                    if label_number == 5:\n",
    "                        if count_image5 >= 40:\n",
    "                            continue \n",
    "                        count_image5 += 1\n",
    "                        \n",
    "                    if label_number == 8:\n",
    "                        if count_image8>= 40:\n",
    "                            continue \n",
    "                        count_image8 += 1\n",
    "                        \n",
    "                    count_image +=1 \n",
    "\n",
    "                if count_image5 == 40 and count_image8 ==40:\n",
    "                    print \"fdsfa\"\n",
    "                    break\n",
    "                \n",
    "            \n",
    "            save_to_numpy(Iftrain, np_to_save, label_to_save, basepixel, pooled_size) "
   ]
  },
  {
   "cell_type": "code",
   "execution_count": 6,
   "metadata": {
    "collapsed": false
   },
   "outputs": [
    {
     "name": "stdout",
     "output_type": "stream",
     "text": [
      "buf 47040016\n",
      "magic 2051 images 60000 28 28\n",
      "(28, 28)\n",
      "(20, 28, 28)\n",
      "(28, 28)\n",
      "pooling/TRIAN_DATA/basepixel_0/28_280\n",
      "(20, 28, 28)\n",
      "(28, 28)\n",
      "pooling/TRIAN_DATA/basepixel_0/28_281\n",
      "(20, 28, 28)\n",
      "(28, 28)\n",
      "pooling/TRIAN_DATA/basepixel_0/28_282\n",
      "(20, 28, 28)\n",
      "(28, 28)\n",
      "pooling/TRIAN_DATA/basepixel_0/28_283\n",
      "(20, 28, 28)\n",
      "(28, 28)\n",
      "pooling/TRIAN_DATA/basepixel_0/28_284\n",
      "(20, 28, 28)\n",
      "(28, 28)\n",
      "pooling/TRIAN_DATA/basepixel_0/28_285\n",
      "(20, 28, 28)\n",
      "(28, 28)\n",
      "pooling/TRIAN_DATA/basepixel_0/28_286\n",
      "(20, 28, 28)\n",
      "(28, 28)\n",
      "pooling/TRIAN_DATA/basepixel_0/28_287\n",
      "(20, 28, 28)\n",
      "(28, 28)\n",
      "pooling/TRIAN_DATA/basepixel_0/28_288\n",
      "(20, 28, 28)\n",
      "(28, 28)\n",
      "pooling/TRIAN_DATA/basepixel_0/28_289\n",
      "(20, 28, 28)\n",
      "(28, 28)\n",
      "pooling/TRIAN_DATA/basepixel_0/28_2810\n",
      "(20, 28, 28)\n",
      "(28, 28)\n",
      "pooling/TRIAN_DATA/basepixel_0/28_2811\n",
      "(20, 28, 28)\n",
      "(28, 28)\n",
      "pooling/TRIAN_DATA/basepixel_0/28_2812\n",
      "(20, 28, 28)\n",
      "(28, 28)\n",
      "pooling/TRIAN_DATA/basepixel_0/28_2813\n",
      "(20, 28, 28)\n",
      "(28, 28)\n",
      "pooling/TRIAN_DATA/basepixel_0/28_2814\n",
      "(20, 28, 28)\n",
      "(28, 28)\n",
      "pooling/TRIAN_DATA/basepixel_0/28_2815\n",
      "(20, 28, 28)\n",
      "(28, 28)\n",
      "pooling/TRIAN_DATA/basepixel_0/28_2816\n",
      "(20, 28, 28)\n",
      "(28, 28)\n",
      "pooling/TRIAN_DATA/basepixel_0/28_2817\n",
      "(20, 28, 28)\n",
      "(28, 28)\n",
      "pooling/TRIAN_DATA/basepixel_0/28_2818\n",
      "(20, 28, 28)\n",
      "(28, 28)\n",
      "pooling/TRIAN_DATA/basepixel_0/28_2819\n",
      "(20, 28, 28)\n",
      "(28, 28)\n"
     ]
    },
    {
     "ename": "IndexError",
     "evalue": "index 20 is out of bounds for axis 0 with size 20",
     "output_type": "error",
     "traceback": [
      "\u001b[0;31m---------------------------------------------------------------------------\u001b[0m",
      "\u001b[0;31mIndexError\u001b[0m                                Traceback (most recent call last)",
      "\u001b[0;32m<ipython-input-6-39a4d6df300f>\u001b[0m in \u001b[0;36m<module>\u001b[0;34m()\u001b[0m\n\u001b[1;32m      2\u001b[0m \u001b[0mpooling_size_list\u001b[0m \u001b[1;33m=\u001b[0m \u001b[1;33m[\u001b[0m\u001b[1;33m(\u001b[0m\u001b[1;36m1\u001b[0m\u001b[1;33m,\u001b[0m\u001b[1;36m1\u001b[0m\u001b[1;33m)\u001b[0m\u001b[1;33m,\u001b[0m \u001b[1;33m(\u001b[0m\u001b[1;36m2\u001b[0m\u001b[1;33m,\u001b[0m\u001b[1;36m2\u001b[0m\u001b[1;33m)\u001b[0m\u001b[1;33m]\u001b[0m\u001b[1;33m\u001b[0m\u001b[0m\n\u001b[1;32m      3\u001b[0m \u001b[1;31m#if Debug_num == 0, then save all images, Debug_num >0, save Debug_num images\u001b[0m\u001b[1;33m\u001b[0m\u001b[1;33m\u001b[0m\u001b[0m\n\u001b[0;32m----> 4\u001b[0;31m \u001b[0mdeal_image_5_8\u001b[0m\u001b[1;33m(\u001b[0m\u001b[1;34m\"train-images.idx3-ubyte\"\u001b[0m\u001b[1;33m,\u001b[0m \u001b[1;34m\"train-labels.idx1-ubyte\"\u001b[0m\u001b[1;33m,\u001b[0m\u001b[0mpooling_size_list\u001b[0m\u001b[1;33m,\u001b[0m\u001b[0mDebug_num\u001b[0m\u001b[1;33m=\u001b[0m\u001b[1;36m1000\u001b[0m\u001b[1;33m,\u001b[0m\u001b[0mIftrain\u001b[0m\u001b[1;33m=\u001b[0m\u001b[0mTrue\u001b[0m\u001b[1;33m)\u001b[0m\u001b[1;33m\u001b[0m\u001b[0m\n\u001b[0m\u001b[1;32m      5\u001b[0m \u001b[0mdeal_image_5_8\u001b[0m\u001b[1;33m(\u001b[0m\u001b[1;34m\"t10k-images.idx3-ubyte\"\u001b[0m\u001b[1;33m,\u001b[0m\u001b[1;34m\"t10k-labels.idx1-ubyte\"\u001b[0m\u001b[1;33m,\u001b[0m \u001b[0mpooling_size_list\u001b[0m\u001b[1;33m,\u001b[0m\u001b[0mDebug_num\u001b[0m\u001b[1;33m=\u001b[0m\u001b[1;36m1000\u001b[0m\u001b[1;33m,\u001b[0m\u001b[0mIftrain\u001b[0m\u001b[1;33m=\u001b[0m\u001b[0mFalse\u001b[0m\u001b[1;33m)\u001b[0m\u001b[1;33m\u001b[0m\u001b[0m\n",
      "\u001b[0;32m<ipython-input-5-6464ea11c2aa>\u001b[0m in \u001b[0;36mdeal_image_5_8\u001b[0;34m(train_filename, label_filename, pooling_size_list, Debug_num, Iftrain)\u001b[0m\n\u001b[1;32m     71\u001b[0m                     \u001b[1;32mprint\u001b[0m \u001b[0mnp_to_save\u001b[0m\u001b[1;33m.\u001b[0m\u001b[0mshape\u001b[0m\u001b[1;33m\u001b[0m\u001b[0m\n\u001b[1;32m     72\u001b[0m                     \u001b[1;32mprint\u001b[0m \u001b[0mpooled_data\u001b[0m\u001b[1;33m.\u001b[0m\u001b[0mshape\u001b[0m\u001b[1;33m\u001b[0m\u001b[0m\n\u001b[0;32m---> 73\u001b[0;31m                     \u001b[0mnp_to_save\u001b[0m\u001b[1;33m[\u001b[0m\u001b[0mcount_image\u001b[0m\u001b[1;33m]\u001b[0m \u001b[1;33m=\u001b[0m \u001b[0mpooled_data\u001b[0m\u001b[1;33m\u001b[0m\u001b[0m\n\u001b[0m\u001b[1;32m     74\u001b[0m                     \u001b[0mlabel_to_save\u001b[0m\u001b[1;33m[\u001b[0m\u001b[0mcount_image\u001b[0m\u001b[1;33m]\u001b[0m \u001b[1;33m=\u001b[0m \u001b[0mlabel_np\u001b[0m\u001b[1;33m\u001b[0m\u001b[0m\n\u001b[1;32m     75\u001b[0m \u001b[1;33m\u001b[0m\u001b[0m\n",
      "\u001b[0;31mIndexError\u001b[0m: index 20 is out of bounds for axis 0 with size 20"
     ]
    }
   ],
   "source": [
    "#设置要池化的数据块大小\n",
    "pooling_size_list = [(1,1), (2,2)]\n",
    "#if Debug_num == 0, then save all images, Debug_num >0, save Debug_num images\n",
    "deal_image_5_8(\"train-images.idx3-ubyte\", \"train-labels.idx1-ubyte\",pooling_size_list,Debug_num=1000,Iftrain=True)\n",
    "deal_image_5_8(\"t10k-images.idx3-ubyte\",\"t10k-labels.idx1-ubyte\", pooling_size_list,Debug_num=1000,Iftrain=False)"
   ]
  },
  {
   "cell_type": "code",
   "execution_count": null,
   "metadata": {
    "collapsed": true
   },
   "outputs": [],
   "source": [
    "import numpy as np\n",
    "from PIL import Image\n",
    "\n",
    "# Creates a random image 100*100 pixels\n",
    "mat = np.random.random((100,100))\n",
    "\n",
    "# Creates PIL image\n",
    "img = Image.fromarray(mat, 'L')\n",
    "img.show() "
   ]
  },
  {
   "cell_type": "code",
   "execution_count": 85,
   "metadata": {
    "collapsed": false
   },
   "outputs": [
    {
     "name": "stdout",
     "output_type": "stream",
     "text": [
      "(5,)\n"
     ]
    }
   ],
   "source": [
    "label_index = 0\n",
    "label_index += struct.calcsize('>9B')\n",
    "buf2 = open(\"train-labels.idx1-ubyte\", \"rb\").read()\n",
    "print struct.unpack_from('>B', buf2, 8)\n"
   ]
  },
  {
   "cell_type": "code",
   "execution_count": 38,
   "metadata": {
    "collapsed": false
   },
   "outputs": [
    {
     "data": {
      "text/plain": [
       "array([ 0.,  0.,  0.,  0.,  0.,  0.,  0.,  0.,  0.,  0.])"
      ]
     },
     "execution_count": 38,
     "metadata": {},
     "output_type": "execute_result"
    }
   ],
   "source": [
    "np.zeros(10)"
   ]
  },
  {
   "cell_type": "code",
   "execution_count": 25,
   "metadata": {
    "collapsed": false
   },
   "outputs": [],
   "source": [
    "a = np.array([[1,3,4],[1,2,3],[1,2,1],[4,5,7]])\n",
    "b = np.array([10,20,30])\n",
    "a = np.vstack((a, b))"
   ]
  },
  {
   "cell_type": "code",
   "execution_count": 26,
   "metadata": {
    "collapsed": false
   },
   "outputs": [
    {
     "name": "stdout",
     "output_type": "stream",
     "text": [
      "(3,)\n"
     ]
    }
   ],
   "source": [
    "print b.shape"
   ]
  },
  {
   "cell_type": "code",
   "execution_count": 27,
   "metadata": {
    "collapsed": false
   },
   "outputs": [
    {
     "name": "stdout",
     "output_type": "stream",
     "text": [
      "(5, 3)\n"
     ]
    }
   ],
   "source": [
    "print a.shape"
   ]
  },
  {
   "cell_type": "code",
   "execution_count": null,
   "metadata": {
    "collapsed": true
   },
   "outputs": [],
   "source": []
  }
 ],
 "metadata": {
  "anaconda-cloud": {},
  "kernelspec": {
   "display_name": "Python [default]",
   "language": "python",
   "name": "python2"
  },
  "language_info": {
   "codemirror_mode": {
    "name": "ipython",
    "version": 2
   },
   "file_extension": ".py",
   "mimetype": "text/x-python",
   "name": "python",
   "nbconvert_exporter": "python",
   "pygments_lexer": "ipython2",
   "version": "2.7.12"
  }
 },
 "nbformat": 4,
 "nbformat_minor": 1
}
