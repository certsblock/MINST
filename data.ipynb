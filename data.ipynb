{
 "cells": [
  {
   "cell_type": "code",
   "execution_count": 3,
   "metadata": {
    "collapsed": true
   },
   "outputs": [],
   "source": [
    "import os\n",
    "import gzip\n",
    "import cPickle\n",
    "import wget\n",
    "\n",
    "import numpy as np\n",
    "\n",
    "\n",
    "def load_mnist():\n",
    "    if not os.path.exists(os.path.join(os.curdir, 'data')):\n",
    "        os.mkdir(os.path.join(os.curdir, 'data'))\n",
    "        wget.download('http://deeplearning.net/data/mnist/mnist.pkl.gz', out='data')\n",
    "\n",
    "    data_file = gzip.open(os.path.join(os.curdir, 'data', 'mnist.pkl.gz'), 'rb')\n",
    "    training_data, validation_data, test_data = cPickle.load(data_file)\n",
    "    data_file.close()\n",
    "\n",
    "    training_inputs = [np.reshape(x, (784, 1)) for x in training_data[0]]\n",
    "    training_results = [vectorized_result(y) for y in training_data[1]]\n",
    "    training_data = zip(training_inputs, training_results)\n",
    "\n",
    "    validation_inputs = [np.reshape(x, (784, 1)) for x in validation_data[0]]\n",
    "    validation_results = validation_data[1]\n",
    "    validation_data = zip(validation_inputs, validation_results)\n",
    "\n",
    "    test_inputs = [np.reshape(x, (784, 1)) for x in test_data[0]]\n",
    "    test_data = zip(test_inputs, test_data[1])\n",
    "    return training_data, validation_data, test_data\n",
    "\n",
    "\n",
    "def vectorized_result(y):\n",
    "    e = np.zeros((10, 1))\n",
    "    e[y] = 1.0\n",
    "    return e"
   ]
  },
  {
   "cell_type": "code",
   "execution_count": 1,
   "metadata": {
    "collapsed": true
   },
   "outputs": [],
   "source": [
    "from PIL import Image"
   ]
  },
  {
   "cell_type": "code",
   "execution_count": 24,
   "metadata": {
    "collapsed": true
   },
   "outputs": [],
   "source": [
    "#!/usr/bin/env python\n",
    "# -*- coding: utf-8 -*-\n",
    "\n",
    "\n",
    "from PIL import Image\n",
    "import struct\n",
    "\n",
    "\n",
    "def read_image(filename):\n",
    "    f = open(filename, 'rb')\n",
    "\n",
    "\n",
    "    index = 0\n",
    "    buf = f.read()\n",
    "\n",
    "    print \"buf\", len(buf)\n",
    "    f.close()\n",
    "\n",
    "\n",
    "    magic, images, rows, columns = struct.unpack_from('>IIII' , buf , index)\n",
    "    index += struct.calcsize('>IIII')\n",
    "    for i in xrange(images):\n",
    "        image = Image.new('L', (columns, rows))\n",
    "\n",
    "        \n",
    "        for x in xrange(columns):\n",
    "          for y in xrange(rows):\n",
    "            #max_pixel = max(int(struct.unpack_from('>B', buf, index)[0]), max_pixel)\n",
    "            #print \"int(struct.unpack_from('>B', buf, index)[0]) \", int(struct.unpack_from('>B', buf, index)[0]) \n",
    "            if int(struct.unpack_from('>B', buf, index)[0]) > 0:\n",
    "                image.putpixel((y, x),  255)\n",
    "            else :\n",
    "                image.putpixel((y, x),  0)\n",
    "                \n",
    "            index += struct.calcsize('>B')\n",
    "            \n",
    "        print 'save ' + str(i) + 'image'\n",
    "        image.save('dealwith0and1/' + str(i) + '.png')\n",
    "        \n",
    "\n",
    "    print max_pixel"
   ]
  },
  {
   "cell_type": "code",
   "execution_count": null,
   "metadata": {
    "collapsed": true
   },
   "outputs": [],
   "source": []
  },
  {
   "cell_type": "code",
   "execution_count": 9,
   "metadata": {
    "collapsed": true
   },
   "outputs": [],
   "source": [
    "#!/usr/bin/env python\n",
    "# -*- coding: utf-8 -*-\n",
    "\n",
    "\n",
    "from PIL import Image\n",
    "import struct\n",
    "import numpy as np\n",
    "import pandas as pd\n",
    "\n",
    "def read_image(filename):\n",
    "    f = open(filename, 'rb')\n",
    "\n",
    "    index = 0\n",
    "    buf = f.read()\n",
    "\n",
    "    print \"buf\", len(buf)\n",
    "    f.close()\n",
    "    \n",
    "\n",
    "    magic, images, rows, columns = struct.unpack_from('>IIII' , buf , index)\n",
    "    index += struct.calcsize('>IIII')\n",
    "    for i in xrange(images):\n",
    "        # for debug\n",
    "        if i >2 :\n",
    "            break\n",
    "        scale_image = Image.new('L', (columns/4, rows/4))\n",
    "        image = Image.new('L', (columns, rows))\n",
    "        normal_np = np.zeros((columns, rows))\n",
    "        scale_np = np.zeros((columns/4, rows/4))\n",
    "        \n",
    "        for x in xrange(columns):\n",
    "          for y in xrange(rows):\n",
    "            #max_pixel = max(int(struct.unpack_from('>B', buf, index)[0]), max_pixel)\n",
    "            #print \"int(struct.unpack_from('>B', buf, index)[0]) \", int(struct.unpack_from('>B', buf, index)[0]) \n",
    "            scale_np[y/4][x/4] += int(struct.unpack_from('>B', buf, index)[0])\n",
    "            normal_np[y][x] = int(struct.unpack_from('>B', buf, index)[0])\n",
    "\n",
    "            index += struct.calcsize('>B')\n",
    "        \n",
    "        for x in xrange(columns/4):\n",
    "            for y in xrange(rows/4):\n",
    "                scale_image.putpixel((y, x),  int(scale_np[y][x]/16))\n",
    "                \n",
    "        for x in xrange(columns):\n",
    "            for y in xrange(rows):\n",
    "                if normal_np[y][x] < 0:\n",
    "                    \n",
    "                    image.putpixel((y, x), 255)\n",
    "                else :\n",
    "                    image.putpixel((y,x),0)\n",
    "        \n",
    "        print pd.DataFrame(scale_np/16)\n",
    "        print 'save ' + str(i) + 'image'\n",
    "        scale_image.save('scaledata/' + \"scale\"+ str(i) + '.png')\n",
    "        \n",
    "        image.save('normaldata/' + \"normal\"+ str(i) + '.png')\n",
    "\n",
    "\n"
   ]
  },
  {
   "cell_type": "code",
   "execution_count": 10,
   "metadata": {},
   "outputs": [
    {
     "name": "stdout",
     "output_type": "stream",
     "text": [
      "buf 47040016\n",
      "     0         1         2         3         4         5        6\n",
      "0  0.0    0.0000    0.0000    0.0000    0.0000    0.0000   0.0000\n",
      "1  0.0    3.0625    1.1250    0.0000    0.0000   55.9375  55.9375\n",
      "2  0.0   81.9375  117.6250    0.6875    0.0000  167.1250  30.9375\n",
      "3  0.0  124.8750  133.9375  123.6875   53.8125  163.6250   0.0000\n",
      "4  0.0  127.8125   42.8125   74.3125  210.6250   38.4375   0.0000\n",
      "5  0.0  107.8750    0.0000    0.0000    4.1250    0.0000   0.0000\n",
      "6  0.0    0.0000    0.0000    0.0000    0.0000    0.0000   0.0000\n",
      "save 0image\n",
      "     0        1         2         3         4         5    6\n",
      "0  0.0    0.000    0.0000    0.0000    0.0000    0.0000  0.0\n",
      "1  0.0    0.000    0.0000   36.5000   84.3750   57.8750  0.0\n",
      "2  0.0    0.625  104.9375  132.1875   53.0000  207.1250  0.0\n",
      "3  0.0  103.750  164.3125    2.9375    7.1250  156.3125  0.0\n",
      "4  0.0  211.250   96.1250    0.0000  113.9375   36.0000  0.0\n",
      "5  0.0   27.375  128.6875  172.3125   46.6875    0.0000  0.0\n",
      "6  0.0    0.000    0.0000    0.0000    0.0000    0.0000  0.0\n",
      "save 1image\n",
      "     0       1        2         3        4        5        6\n",
      "0  0.0   0.000  10.3750   39.1875    0.000    0.000   0.0000\n",
      "1  0.0  27.000  99.5625  121.1250   40.625    0.000   0.0000\n",
      "2  0.0   0.000   0.0000   73.5000   31.750    0.000   0.0000\n",
      "3  0.0   0.000   0.0000   91.5000    0.000    0.000   0.0000\n",
      "4  0.0   0.125  41.3750  162.8125  131.000  136.875  31.4375\n",
      "5  0.0  67.500  86.7500   22.6875    0.000    0.000   0.0000\n",
      "6  0.0   0.000   0.0000    0.0000    0.000    0.000   0.0000\n",
      "save 2image\n"
     ]
    }
   ],
   "source": [
    "read_image(\"train-images.idx3-ubyte\")"
   ]
  },
  {
   "cell_type": "code",
   "execution_count": null,
   "metadata": {
    "collapsed": true
   },
   "outputs": [],
   "source": []
  }
 ],
 "metadata": {
  "anaconda-cloud": {},
  "kernelspec": {
   "display_name": "Python 2",
   "language": "python",
   "name": "python2"
  },
  "language_info": {
   "codemirror_mode": {
    "name": "ipython",
    "version": 2
   },
   "file_extension": ".py",
   "mimetype": "text/x-python",
   "name": "python",
   "nbconvert_exporter": "python",
   "pygments_lexer": "ipython2",
   "version": "2.7.13"
  }
 },
 "nbformat": 4,
 "nbformat_minor": 1
}
